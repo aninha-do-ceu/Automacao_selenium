{
 "cells": [
  {
   "cell_type": "markdown",
   "metadata": {},
   "source": [
    "#ver algumas acoes - exercicios\n",
    "#ibm, ford, apple e general eletric\n",
    "#AAPL - Apple\n",
    "#Ford - F\n",
    "#IBM - IBM\n",
    "#General Eletric - GE\n",
    "#ver alguns indices tbm\n",
    "#^IXIC - Nasdaq\n",
    "#^DJI - Dow Jones\n",
    "#^GSPC - S&P 500\n",
    "#^BVSP - Ibovespa\n",
    "#quote-nav > ul > li:nth-child(5) > a > span\n",
    "#quote-nav > ul > li:nth-child(4) > a > span"
   ]
  },
  {
   "cell_type": "code",
   "execution_count": null,
   "metadata": {},
   "outputs": [],
   "source": [
    "#Importacao de pacotes\n",
    "import time\n",
    "import pandas as pd\n",
    "import numpy as np\n",
    "import requests\n",
    "from selenium import webdriver\n",
    "from selenium.webdriver.support.ui import Select\n",
    "from selenium.webdriver.firefox.firefox_binary import FirefoxBinary\n",
    "import matplotlib\n",
    "import matplotlib.pyplot as plt\n",
    "plt.style.use(\"ggplot\")\n",
    "from datetime import datetime\n",
    "\n",
    "import matplotlib.gridspec as gridspec\n",
    "import seaborn as sn\n",
    "\n",
    "from pandas.plotting import register_matplotlib_converters\n",
    "register_matplotlib_converters()\n",
    "\n",
    "import statistics as st"
   ]
  },
  {
   "cell_type": "code",
   "execution_count": null,
   "metadata": {},
   "outputs": [],
   "source": [
    "binary = FirefoxBinary('C:\\\\Program Files\\\\Mozilla Firefox\\\\firefox.exe')\n",
    "driver = webdriver.Firefox(firefox_binary=binary, executable_path = r'C:\\\\geckodriver.exe')"
   ]
  },
  {
   "cell_type": "code",
   "execution_count": null,
   "metadata": {},
   "outputs": [],
   "source": [
    "def pesquisa(nome):\n",
    "\n",
    "    url_site = \"https://finance.yahoo.com\"\n",
    "    driver.get(url_site)\n",
    "    time.sleep(5)\n",
    "\n",
    "    #barra de pesquisa\n",
    "    #id = yfin-usr-qry\n",
    "    pesquisa = driver.find_element_by_id(\"yfin-usr-qry\")\n",
    "    pesquisa.click()\n",
    "    nome = str(nome)\n",
    "    pesquisa.send_keys(nome)\n",
    "\n",
    "    #botao para clicar\n",
    "    #id = header-desktop-search-button\n",
    "    botao = driver.find_element_by_id(\"header-desktop-search-button\")\n",
    "    botao.click()\n",
    "    time.sleep(10)\n",
    "    \n",
    "def historico(a,tipo):\n",
    "    if tipo == \"acao\":\n",
    "        b = driver.find_element_by_css_selector(\"li.IbBox:nth-child(5) > a:nth-child(1)\")\n",
    "    else:\n",
    "        b = driver.find_element_by_css_selector(\"li.IbBox:nth-child(4) > a:nth-child(1)\")\n",
    "    \n",
    "    b.click()\n",
    "    time.sleep(10)\n",
    "    \n",
    "def pega_html(a):\n",
    "    time.sleep(10)\n",
    "    tabela = driver.find_element_by_tag_name(\"tbody\")\n",
    "    html = tabela.get_attribute('innerHTML')\n",
    "\n",
    "    #pega o html da pagina\n",
    "    mano = html.split('</span')\n",
    "    dividendo,teste,linhas = [],[],[]\n",
    "    global linhas\n",
    "    #divide o html de acordo com \"<span\" para pegar as linhas\n",
    "    for i in mano:\n",
    "        #print i\n",
    "        mano2 = i.split('<span')\n",
    "        for j in mano2:\n",
    "            #print j\n",
    "            teste.append(j)\n",
    "\n",
    "    #adiciona as linhas (estao em posicao impar) na variavel linhas\n",
    "    for pos in range(0,len(teste)):\n",
    "        if int(pos) % 2 == 1:\n",
    "            #print teste[pos]\n",
    "            if teste[pos] != \">Dividend\":\n",
    "                linhas.append(teste[pos])\n",
    "            else:\n",
    "                dividendo.append(teste[pos-1])\n",
    "                linhas.append(\"dividendo\")\n",
    "                linhas.append(\"dividendo\")\n",
    "                linhas.append(\"dividendo\")\n",
    "                linhas.append(\"dividendo\")\n",
    "                linhas.append(\"dividendo\")\n",
    "                linhas.append(\"dividendo\")\n",
    "\n",
    "    for i in linhas:\n",
    "        print(i)\n",
    "\n",
    "    #linha 1 - data\n",
    "    #linha 2 - abertura\n",
    "    #linha 3 - maximo\n",
    "    #linha 4 - minimo\n",
    "    #linha 5 - fechamento\n",
    "    #linha 6 - fechamento ajustado - com dividendos\n",
    "    #linha 7 - volume\n",
    "def trata(a):\n",
    "\n",
    "    lin = 0\n",
    "    data, abertura, maximo, minimo, fechamento, fechamento_ajustado, volume = [],[],[],[],[],[],[]\n",
    "    global data\n",
    "    global abertura\n",
    "    global maximo \n",
    "    global minimo\n",
    "    global fechamento\n",
    "    global fechamento_ajustado\n",
    "    global volume\n",
    "    while lin < len(linhas):\n",
    "        if linhas[lin] == \"dividendo\" or linhas[lin+1] == \"dividendo\":\n",
    "            data.append(linhas[lin])\n",
    "            abertura.append(linhas[lin+1])\n",
    "            maximo.append(linhas[lin+2])\n",
    "            minimo.append(linhas[lin+3])\n",
    "            fechamento.append(linhas[lin+4])\n",
    "            fechamento_ajustado.append(linhas[lin+5])\n",
    "            volume.append(linhas[lin+6])\n",
    "\n",
    "        else:\n",
    "            dat = linhas[lin].split('>')\n",
    "            data.append(dat[1])\n",
    "            print(dat[1])\n",
    "\n",
    "            abert = linhas[lin+1].split('>')\n",
    "            abertura.append(abert[1])\n",
    "            print(abert[1])\n",
    "\n",
    "            maxi = linhas[lin+2].split('>')\n",
    "            maximo.append(maxi[1])\n",
    "            print(maxi[1])\n",
    "\n",
    "            mini = linhas[lin+3].split('>')\n",
    "            minimo.append(mini[1])\n",
    "            print(mini[1])\n",
    "\n",
    "            fec = linhas[lin+4].split('>')\n",
    "            fechamento.append(fec[1])\n",
    "            print(fec[1])\n",
    "\n",
    "            fec_ajust = linhas[lin+5].split('>')\n",
    "            fechamento_ajustado.append(fec_ajust[1])\n",
    "            print(fec_ajust[1])\n",
    "\n",
    "            if lin >= len(linhas) - 8:\n",
    "                vol = linhas[-1].split('>')\n",
    "                volume.append(vol[1])\n",
    "                print(vol[1])\n",
    "\n",
    "            else:\n",
    "                vol = linhas[lin+6].split('>')\n",
    "                volume.append(vol[1])\n",
    "                print(vol[1])\n",
    "\n",
    "        lin = lin + 7\n",
    "    \n",
    "def banco(a):\n",
    "    global ibm\n",
    "    ibm = {'data': data,'abertura': abertura,'maximo': maximo,'minimo': minimo,'fechamento': fechamento, 'fechamento_ajustado': fechamento_ajustado,'volume': volume}\n",
    "    ibm = pd.DataFrame(ibm)\n",
    "    #retirar linha dos dividendos\n",
    "    indices = ibm[ibm['abertura'] == \"dividendo\"].index\n",
    "    ibm.drop(indices, inplace=True)\n",
    "    print(ibm)\n",
    "        "
   ]
  },
  {
   "cell_type": "code",
   "execution_count": null,
   "metadata": {},
   "outputs": [],
   "source": [
    "#pegar da IBM\n",
    "pesquisa(\"IBM\")\n",
    "time.sleep(5)\n",
    "historico(1,\"acao\")\n",
    "time.sleep(5)\n",
    "pega_html(1)\n",
    "time.sleep(5)\n",
    "trata(1)\n",
    "time.sleep(5)\n",
    "banco(1)\n",
    "time.sleep(5)\n",
    "df_ibm = ibm"
   ]
  },
  {
   "cell_type": "code",
   "execution_count": null,
   "metadata": {},
   "outputs": [],
   "source": [
    "#Pegar da Apple\n",
    "pesquisa(\"AAPL\")\n",
    "time.sleep(5)\n",
    "historico(1,\"acao\")\n",
    "time.sleep(5)\n",
    "pega_html(1)\n",
    "time.sleep(5)\n",
    "trata(1)\n",
    "time.sleep(5)\n",
    "banco(1)\n",
    "time.sleep(5)\n",
    "df_ap = ibm"
   ]
  },
  {
   "cell_type": "code",
   "execution_count": null,
   "metadata": {},
   "outputs": [],
   "source": [
    "#Pegar da Ford\n",
    "pesquisa(\"F\")\n",
    "time.sleep(5)\n",
    "historico(1,\"acao\")\n",
    "time.sleep(5)\n",
    "pega_html(1)\n",
    "time.sleep(5)\n",
    "trata(1)\n",
    "time.sleep(5)\n",
    "banco(1)\n",
    "time.sleep(5)\n",
    "df_for = ibm"
   ]
  },
  {
   "cell_type": "code",
   "execution_count": null,
   "metadata": {},
   "outputs": [],
   "source": [
    "#Pegar General Eletric\n",
    "pesquisa(\"GE\")\n",
    "time.sleep(5)\n",
    "historico(1,\"acao\")\n",
    "time.sleep(5)\n",
    "pega_html(1)\n",
    "time.sleep(5)\n",
    "trata(1)\n",
    "time.sleep(5)\n",
    "banco(1)\n",
    "time.sleep(5)\n",
    "df_ge = ibm"
   ]
  },
  {
   "cell_type": "code",
   "execution_count": null,
   "metadata": {},
   "outputs": [],
   "source": [
    "#taxa de retorno de um portfolio\n",
    "#multiplica a taxa de retorno pelo peso do portfolio\n",
    "#considerando que Apple e Ford tem 30% cada e as demais 20%, podemos calcular\n",
    "#calcular agora fingindo que todas tem peso iguais - 25%\n",
    "tx_ret_ap = (float(df_ap.iloc[1,3]) - float(df_ap.iloc[-1,3]))/float(df_ap.iloc[-1,3])\n",
    "tx_ret_for = (float(df_for.iloc[1,3]) - float(df_for.iloc[-1,3]))/float(df_for.iloc[-1,3])\n",
    "tx_ret_ibm = (float(df_ibm.iloc[1,3]) - float(df_ibm.iloc[-1,3]))/float(df_ibm.iloc[-1,3])\n",
    "tx_ret_ge = (float(df_ge.iloc[1,3]) - float(df_ge.iloc[-1,3]))/float(df_ge.iloc[-1,3])\n",
    "print df_for.iloc[1,:]\n",
    "print df_for.iloc[-1,:]\n",
    "print float(df_for.iloc[1,3])\n",
    "print float(df_for.iloc[-1,3])\n",
    "print 100*(float(df_for.iloc[1,3]) - float(df_for.iloc[-1,3]))/float(df_for.iloc[-1,3])\n",
    "#deu erro no df da ap\n",
    "#fingir que sao 30, 30 e 40"
   ]
  },
  {
   "cell_type": "code",
   "execution_count": null,
   "metadata": {},
   "outputs": [],
   "source": [
    "print 1000*(0.25*tx_ret_for + 0.25*tx_ret_ge + 0.25*tx_ret_ibm + 0.25*tx_ret_ap)\n",
    "#rendeu 500, eita poxa - caso ford 30%, ge 30% e ibm 40%"
   ]
  },
  {
   "cell_type": "code",
   "execution_count": null,
   "metadata": {},
   "outputs": [],
   "source": [
    "print tx_ret_ap\n",
    "print tx_ret_for\n",
    "print tx_ret_ge\n",
    "print tx_ret_ibm\n",
    "#ge teve o maior retorno"
   ]
  },
  {
   "cell_type": "code",
   "execution_count": null,
   "metadata": {},
   "outputs": [],
   "source": [
    "#pegar indices\n",
    "pesquisa(\"^GSPC\")\n",
    "time.sleep(5)\n",
    "historico(1,\"indice\")\n",
    "time.sleep(5)\n",
    "pega_html(1)\n",
    "time.sleep(5)\n",
    "trata(1)\n",
    "time.sleep(5)\n",
    "banco(1)\n",
    "time.sleep(5)\n",
    "df_sp = ibm"
   ]
  },
  {
   "cell_type": "code",
   "execution_count": null,
   "metadata": {},
   "outputs": [],
   "source": [
    "#tratar as variaveis\n",
    "print df_ap.dtypes\n",
    "#tudo objeto\n",
    "df_ap['data'] = pd.to_datetime(df_ap['data'])\n",
    "df_ap['fechamento'] = pd.to_numeric(df_ap['fechamento'])\n",
    "df_ap['maximo'] = pd.to_numeric(df_ap['maximo'])\n",
    "df_ap['minimo'] = pd.to_numeric(df_ap['minimo'])\n",
    "df_ap['fechamento_ajustado'] = pd.to_numeric(df_ap['fechamento_ajustado'])\n",
    "\n",
    "df_for['data'] = pd.to_datetime(df_for['data'])\n",
    "df_for['fechamento'] = pd.to_numeric(df_for['fechamento'])\n",
    "df_for['maximo'] = pd.to_numeric(df_for['maximo'])\n",
    "df_for['minimo'] = pd.to_numeric(df_for['minimo'])\n",
    "df_for['fechamento_ajustado'] = pd.to_numeric(df_for['fechamento_ajustado'])\n",
    "\n",
    "df_ge['data'] = pd.to_datetime(df_ge['data'])\n",
    "df_ge['fechamento'] = pd.to_numeric(df_ge['fechamento'])\n",
    "df_ge['maximo'] = pd.to_numeric(df_ge['maximo'])\n",
    "df_ge['minimo'] = pd.to_numeric(df_ge['minimo'])\n",
    "df_ge['fechamento_ajustado'] = pd.to_numeric(df_ge['fechamento_ajustado'])\n",
    "\n",
    "df_ibm['data'] = pd.to_datetime(df_ibm['data'])\n",
    "df_ibm['fechamento'] = pd.to_numeric(df_ibm['fechamento'])\n",
    "df_ibm['maximo'] = pd.to_numeric(df_ibm['maximo'])\n",
    "df_ibm['minimo'] = pd.to_numeric(df_ibm['minimo'])\n",
    "df_ibm['fechamento_ajustado'] = pd.to_numeric(df_ibm['fechamento_ajustado'])\n",
    "\n",
    "print df_ap.dtypes"
   ]
  },
  {
   "cell_type": "code",
   "execution_count": null,
   "metadata": {},
   "outputs": [],
   "source": [
    "#tratar a coluna volume\n",
    "volume2 = []\n",
    "for i in df_ap['volume']:\n",
    "    i = i.replace(\",\",\"\")\n",
    "    volume2.append(i)\n",
    "df_ap['volume'] = volume2\n",
    "\n",
    "volume2 = []\n",
    "for i in df_for['volume']:\n",
    "    i = i.replace(\",\",\"\")\n",
    "    volume2.append(i)\n",
    "df_for['volume'] = volume2\n",
    "\n",
    "volume2 = []\n",
    "for i in df_ge['volume']:\n",
    "    i = i.replace(\",\",\"\")\n",
    "    volume2.append(i)\n",
    "df_ge['volume'] = volume2\n",
    "\n",
    "volume2 = []\n",
    "for i in df_ibm['volume']:\n",
    "    i = i.replace(\",\",\"\")\n",
    "    volume2.append(i)\n",
    "df_ibm['volume'] = volume2"
   ]
  },
  {
   "cell_type": "code",
   "execution_count": null,
   "metadata": {},
   "outputs": [],
   "source": [
    "#ver evolucao dos precos ao longo do tempo\n",
    "fig, ((ax1,ax2),(ax3,ax4)) = plt.subplots(2,2,figsize = (20,10))\n",
    "ax1.plot(df_ap['data'], df_ap['fechamento_ajustado'])\n",
    "ax2.plot(df_for['data'], df_for['fechamento_ajustado'])\n",
    "ax3.plot(df_ibm['data'], df_ibm['fechamento_ajustado'])\n",
    "ax4.plot(df_ge['data'], df_ge['fechamento_ajustado'])\n",
    "ax1.set_title(\"Apple\")\n",
    "ax2.set_title(\"Ford\")\n",
    "ax3.set_title(\"IBM\")\n",
    "ax4.set_title(\"General Electric\")"
   ]
  },
  {
   "cell_type": "code",
   "execution_count": null,
   "metadata": {},
   "outputs": [],
   "source": [
    "#verificar o risco com a variabilidade - desvio padrao\n",
    "print st.stdev(df_ap['fechamento_ajustado'])\n",
    "print st.stdev(df_for['fechamento_ajustado'])\n",
    "print st.stdev(df_ge['fechamento_ajustado'])\n",
    "print st.stdev(df_ibm['fechamento_ajustado'])\n",
    "#a apple tem maior desvio padrao, ou seja, maior variabilidade"
   ]
  },
  {
   "cell_type": "code",
   "execution_count": null,
   "metadata": {},
   "outputs": [],
   "source": [
    "#verifica variabilidade do retorno\n",
    "#usar df2\n",
    "df2 = pd.DataFrame()\n",
    "df2['apple'] = (df_ap['fechamento_ajustado'] - df_ap['fechamento_ajustado'].shift(1))*100/df_ap['fechamento_ajustado'].shift(1)\n",
    "df2['ford'] = (df_for['fechamento_ajustado'] - df_for['fechamento_ajustado'].shift(1))*100/df_for['fechamento_ajustado'].shift(1)\n",
    "df2['ibm'] = (df_ibm['fechamento_ajustado'] - df_ibm['fechamento_ajustado'].shift(1))*100/df_ibm['fechamento_ajustado'].shift(1)\n",
    "df2['ge'] = (df_ge['fechamento_ajustado'] - df_ge['fechamento_ajustado'].shift(1))*100/df_ge['fechamento_ajustado'].shift(1)"
   ]
  },
  {
   "cell_type": "code",
   "execution_count": null,
   "metadata": {},
   "outputs": [],
   "source": [
    "df2 = df2.iloc[1:,:]\n",
    "print df2"
   ]
  },
  {
   "cell_type": "code",
   "execution_count": null,
   "metadata": {},
   "outputs": [],
   "source": [
    "df2.describe()\n",
    "#o maior desvio padrao é  o da ford = 2.5\n",
    "#o menor é da ibm = 1.72\n",
    "#a media de retorno é negativa\n",
    "#verificar nos graficos"
   ]
  },
  {
   "cell_type": "code",
   "execution_count": null,
   "metadata": {},
   "outputs": [],
   "source": [
    "fig, ((ax1,ax2),(ax3,ax4)) = plt.subplots(2,2, figsize=(20,15),sharex=True)\n",
    "ax1.plot(df2['apple'])\n",
    "ax2.plot(df2['ford'])\n",
    "ax3.plot(df2['ibm'])\n",
    "ax4.plot(df2['ge'])\n",
    "ax1.set_title('Apple')\n",
    "ax2.set_title('Ford')\n",
    "ax3.set_title('IBM')\n",
    "ax4.set_title('General Electric')\n",
    "ax1.axhline(df2['apple'].mean(), color=\"blue\")\n",
    "ax2.axhline(df2['ford'].mean(), color=\"blue\")\n",
    "ax3.axhline(df2['ibm'].mean(), color=\"blue\")\n",
    "ax4.axhline(df2['ge'].mean(), color=\"blue\")\n",
    "#beleza, o da ibm tem o retorno mais estavel, mais facil de fazer projecoes"
   ]
  },
  {
   "cell_type": "code",
   "execution_count": null,
   "metadata": {},
   "outputs": [],
   "source": [
    "#relacao entre ativos\n",
    "#o que impacta nas acoes: pib, desemprego, inflacao\n",
    "#mercado em recessao, lucro diminui, preco das acoes caem\n",
    "#o contrario é o contrario\n",
    "#mas depende do segmento, quando em quarentena, as pessoas compram mais alimentos e os supermercados não tem seu lucro diminuido\n",
    "#enquanto o da industria automobilistica vai cair pois pessoas vao circular menos, e comprar menos \n",
    "#diversificar a carteira a torna mais forte em momentos de crise"
   ]
  },
  {
   "cell_type": "code",
   "execution_count": null,
   "metadata": {
    "scrolled": true
   },
   "outputs": [],
   "source": [
    "#colocando o preco de fechamento em outro df para comparar\n",
    "df_fechamento = pd.DataFrame()\n",
    "df_fechamento['apple'] = df_ap['fechamento_ajustado']\n",
    "df_fechamento['ford'] = df_for['fechamento_ajustado']\n",
    "df_fechamento['ibm'] = df_ibm['fechamento_ajustado']\n",
    "df_fechamento['ge'] = df_ge['fechamento_ajustado']"
   ]
  },
  {
   "cell_type": "code",
   "execution_count": null,
   "metadata": {},
   "outputs": [],
   "source": [
    "#relacao entre retornos - ?\n",
    "#ex: apple e ibm são de tecnologia\n",
    "print(df2.corr())\n",
    "plot = sn.heatmap(df2.corr(), annot = True, fmt = \".1f\", linewidths=.6)"
   ]
  },
  {
   "cell_type": "code",
   "execution_count": null,
   "metadata": {},
   "outputs": [],
   "source": [
    "#correlacao entre precos\n",
    "print(df_fechamento.corr())\n",
    "plot2 = sn.heatmap(df_fechamento.corr(), annot = True, fmt = \".1f\", linewidths=.6)"
   ]
  },
  {
   "cell_type": "code",
   "execution_count": null,
   "metadata": {
    "scrolled": true
   },
   "outputs": [],
   "source": [
    "#matriz de covariancia\n",
    "df_fechamento.cov()"
   ]
  },
  {
   "cell_type": "code",
   "execution_count": null,
   "metadata": {},
   "outputs": [],
   "source": [
    "#tem um NaN em ge \n",
    "#df2.iloc[70,3] = \n",
    "#a = [df2.iloc[67:69,3],df2.iloc[71:73,3]]\n",
    "a = df2.iloc[[67,68,69,71,72,73],3]\n",
    "#na linha 20, iloc[19,3] tem nan tbm\n",
    "b = df2.iloc[[16,17,18,20,21,22],3]\n",
    "#na linha 37 tbm, iloc[36,2]\n",
    "c = df2.iloc[[33,34,35,37,38,39],2]\n",
    "print a\n",
    "print st.mean(a)\n",
    "\n",
    "df2.iloc[70,3] = st.mean(a)\n",
    "df2.iloc[19,3] = st.mean(b)\n",
    "df2.iloc[36,2] = st.mean(c)\n",
    "print df2.iloc[70,3]\n",
    "print df2.iloc[19,3]\n",
    "print df2.iloc[36,2]"
   ]
  },
  {
   "cell_type": "code",
   "execution_count": null,
   "metadata": {},
   "outputs": [],
   "source": [
    "#esperanca matematica de cada retorno de cada acao\n",
    "#esperanca é dada pela soma dos valores multiplicados pela probabilidade de ocorrerem\n",
    "#verificar o histograma dos retornos\n",
    "fig, ((ax1,ax2),(ax3,ax4)) = plt.subplots(2,2,figsize=(20,15))\n",
    "ax1.hist(df2['apple'])\n",
    "ax2.hist(df2['ford'])\n",
    "ax3.hist(df2['ge'])\n",
    "ax4.hist(df2['ibm'])"
   ]
  },
  {
   "cell_type": "code",
   "execution_count": null,
   "metadata": {},
   "outputs": [],
   "source": [
    "# retorno de uma carteira com 2 investimentos\n",
    "#acao 1 = a - fracao o\n",
    "#acao 2 = b - fracao 1-o\n",
    "#capital k\n",
    "#retornos de cada sao r1 e r2, com e(ri) = ui e var(ri) = desvio(ri)^2, para i = 1,2 \n",
    "#e p é coeficiente de correlacao entre os ativos\n",
    "#temos que\n",
    "# k(1 + r) = ok(1+r1) + (1-o)(1+r2)\n",
    "#r(o) = r1*o + r2(1-o) \n",
    "#casos mais simples"
   ]
  },
  {
   "cell_type": "code",
   "execution_count": null,
   "metadata": {},
   "outputs": [],
   "source": [
    "df2.iloc[36,2]"
   ]
  },
  {
   "cell_type": "code",
   "execution_count": null,
   "metadata": {},
   "outputs": [],
   "source": [
    "#pegar da petrobras\n",
    "pesquisa(\"PETR4.SA\")\n",
    "time.sleep(5)\n",
    "historico(1,\"acao\")\n",
    "time.sleep(5)\n",
    "pega_html(1)\n",
    "time.sleep(5)\n",
    "trata(1)\n",
    "time.sleep(5)\n",
    "banco(1)\n",
    "time.sleep(5)\n",
    "df_pet = ibm"
   ]
  },
  {
   "cell_type": "code",
   "execution_count": null,
   "metadata": {},
   "outputs": [],
   "source": [
    "#pegar da magalu\n",
    "pesquisa(\"VALE3.SA\")\n",
    "time.sleep(5)\n",
    "historico(1,\"acao\")\n",
    "time.sleep(5)\n",
    "pega_html(1)\n",
    "time.sleep(5)\n",
    "trata(1)\n",
    "time.sleep(5)\n",
    "banco(1)\n",
    "time.sleep(5)\n",
    "df_va = ibm"
   ]
  },
  {
   "cell_type": "code",
   "execution_count": null,
   "metadata": {},
   "outputs": [],
   "source": [
    "df_pet['data'] = pd.to_datetime(df_pet['data'])\n",
    "df_mgl['data'] = pd.to_datetime(df_mgl['data'])\n",
    "\n",
    "df_pet['fechamento_ajustado'] = pd.to_numeric(df_pet['fechamento_ajustado'])\n",
    "df_mgl['fechamento_ajustado'] = pd.to_numeric(df_mgl['fechamento_ajustado'])\n",
    "\n",
    "vol2 = []\n",
    "for i in df_pet['volume']:\n",
    "    i = i.replace(',','')\n",
    "    vol2.append(i)\n",
    "df_pet['volume']\n",
    "\n",
    "vol2 = []\n",
    "for i in df_mgl['volume']:\n",
    "    i = i.replace(',','')\n",
    "    vol2.append(i)\n",
    "df_mgl['volume']"
   ]
  },
  {
   "cell_type": "code",
   "execution_count": null,
   "metadata": {},
   "outputs": [],
   "source": []
  }
 ],
 "metadata": {
  "kernelspec": {
   "display_name": "Python 3",
   "language": "python",
   "name": "python3"
  },
  "language_info": {
   "codemirror_mode": {
    "name": "ipython",
    "version": 3
   },
   "file_extension": ".py",
   "mimetype": "text/x-python",
   "name": "python",
   "nbconvert_exporter": "python",
   "pygments_lexer": "ipython3",
   "version": "3.8.8"
  }
 },
 "nbformat": 4,
 "nbformat_minor": 2
}
