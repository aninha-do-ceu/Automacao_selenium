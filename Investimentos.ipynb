{
 "cells": [
  {
   "cell_type": "markdown",
   "metadata": {},
   "source": [
    "## Objetivo - Estudo Automação com Beautiful Soup\n",
    "<br>Ações a serem buscadas: ibm, ford, apple e general eletric </br>\n",
    "- AAPL - Apple\n",
    "- Ford - F\n",
    "- IBM - IBM\n",
    "- General Eletric - GE\n",
    "\\\n",
    "<br>Indices a serem vistos: </br>\n",
    "- ^IXIC - Nasdaq\n",
    "- ^DJI - Dow Jones\n",
    "- ^GSPC - S&P 500\n",
    "- ^BVSP - Ibovespa"
   ]
  },
  {
   "cell_type": "code",
   "execution_count": 1,
   "metadata": {},
   "outputs": [],
   "source": [
    "#Importacao de pacotes\n",
    "import time\n",
    "from datetime import datetime\n",
    "\n",
    "import pandas as pd\n",
    "import numpy as np\n",
    "\n",
    "import requests\n",
    "from selenium import webdriver\n",
    "from selenium.webdriver.support.ui import Select\n",
    "from selenium.webdriver.firefox.firefox_binary import FirefoxBinary\n",
    "\n",
    "import matplotlib\n",
    "import matplotlib.pyplot as plt\n",
    "import matplotlib.gridspec as gridspec\n",
    "\n",
    "plt.style.use(\"ggplot\")\n",
    "\n",
    "import statistics as st\n",
    "# from pandas.plotting import register_matplotlib_converters\n",
    "# register_matplotlib_converters()"
   ]
  },
  {
   "cell_type": "code",
   "execution_count": 2,
   "metadata": {},
   "outputs": [],
   "source": [
    "import re"
   ]
  },
  {
   "cell_type": "code",
   "execution_count": 3,
   "metadata": {},
   "outputs": [],
   "source": [
    "binary = FirefoxBinary('C:\\\\Program Files\\\\Mozilla Firefox\\\\firefox.exe')\n",
    "driver = webdriver.Firefox(firefox_binary=binary, executable_path = r'C:\\\\geckodriver.exe')"
   ]
  },
  {
   "cell_type": "markdown",
   "metadata": {},
   "source": [
    "## Estrutura\n",
    "\n",
    "<br>O código foi estruturado em funções: </br>\n",
    "- Inicia_conexao\n",
    "- Pesquisa\n",
    "- Historico\n",
    "- Pega_HTML"
   ]
  },
  {
   "cell_type": "code",
   "execution_count": 4,
   "metadata": {},
   "outputs": [],
   "source": [
    "def inicia_conexao(site: str):\n",
    "    \"\"\"\n",
    "    Função que inicia a conexão indo para o site passado como argumento\n",
    "    \"\"\"\n",
    "    \n",
    "    try:\n",
    "        url_site = site\n",
    "        driver.get(url_site)\n",
    "    except Exception as e:\n",
    "        print(f\"Erro: {e}\")"
   ]
  },
  {
   "cell_type": "code",
   "execution_count": 6,
   "metadata": {},
   "outputs": [],
   "source": [
    "def pesquisa(acao: str):\n",
    "    \"\"\"\n",
    "    Função que irá buscar no Yahoo Finance a ação passada\n",
    "    \n",
    "    ------\n",
    "    Inputs\n",
    "    ------\n",
    "    acao: Nome do ativo desejado\n",
    "    \"\"\"\n",
    "\n",
    "    #barra de pesquisa\n",
    "    barra_pesquisa = driver.find_element_by_id(\"yfin-usr-qry\")\n",
    "    barra_pesquisa.click()\n",
    "    barra_pesquisa.send_keys(str(acao))\n",
    "\n",
    "    #botao para clicar\n",
    "    botao = driver.find_element_by_id(\"header-desktop-search-button\")\n",
    "    botao.click()"
   ]
  },
  {
   "cell_type": "code",
   "execution_count": 8,
   "metadata": {},
   "outputs": [],
   "source": [
    "def historico(tipo):\n",
    "    if tipo == \"acao\":\n",
    "        b = driver.find_element_by_css_selector(\"li.IbBox:nth-child(5) > a:nth-child(1)\")\n",
    "    else:\n",
    "        b = driver.find_element_by_css_selector(\"li.IbBox:nth-child(4) > a:nth-child(1)\")\n",
    "    \n",
    "    b.click()"
   ]
  },
  {
   "cell_type": "code",
   "execution_count": 164,
   "metadata": {},
   "outputs": [],
   "source": [
    "def trata_data(data: str):\n",
    "    dic_meses = {\n",
    "        'jan': '01',\n",
    "        'feb': '02',\n",
    "        'mar': '03',\n",
    "        'apr': '04',\n",
    "        'may': '05',\n",
    "        'jun': '06',\n",
    "        'jul': '07',\n",
    "        'aug': '08',\n",
    "        'sep': '09',\n",
    "        'oct': '10',\n",
    "        'nov': '11',\n",
    "        'dec': '12'\n",
    "    }\n",
    "\n",
    "    data = data.replace(',','').replace(' ','').lower()\n",
    "    nova_data = f'{data[3:5]}/{dic_meses[data[:3]]}/{data[-4:]}'\n",
    "    return nova_data"
   ]
  },
  {
   "cell_type": "code",
   "execution_count": 136,
   "metadata": {},
   "outputs": [],
   "source": [
    "def pega_conteudo():\n",
    "    df = pd.DataFrame({'data':[],'preco_abertura':[],'preco_maximo':[], 'preco_minimo':[],'preco_fechamento':[],'fechamento_ajustado':[],'volume_transacoes':[]})\n",
    "    tabela = driver.find_element_by_tag_name(\"tbody\")\n",
    "    tabela_html = tabela.get_attribute('innerHTML')\n",
    "\n",
    "    linhas_tb = tabela_html.split('<tr>')\n",
    "    lista = []\n",
    "    for linha in linhas_tb:\n",
    "        itens = linha.split('span')\n",
    "        for item in itens:\n",
    "            # se achar os caracteres '>' e '</' será ignorado\n",
    "            # caso contrário, será adicionado à lista e, quando atingir 7 elementos, será adicionado ao Dataframe df\n",
    "            if not re.search('class', item.replace('>','').replace('</','')) \\\n",
    "            and not re.search('strong',item.replace('>','').replace('</','')) \\\n",
    "            and not re.search('Dividend',item.replace('>','').replace('</','')):\n",
    "                lista.append(item.replace('>','').replace('</',''))\n",
    "                if len(lista) == 7 and re.search(',', lista[6]):\n",
    "                    df = df.append({'data':trata_data(lista[0]),'preco_abertura':float(lista[1]),'preco_maximo':float(lista[2]), \n",
    "                                    'preco_minimo':float(lista[3]),'preco_fechamento':float(lista[4]),'fechamento_ajustado':float(lista[5]),\n",
    "                                    'volume_transacoes':float(lista[6].replace(',',''))}, ignore_index = True)\n",
    "                    lista = []\n",
    "\n",
    "    return df"
   ]
  },
  {
   "cell_type": "markdown",
   "metadata": {},
   "source": [
    "## Iniciando conexão e entrando no Yahoo Finance"
   ]
  },
  {
   "cell_type": "code",
   "execution_count": 60,
   "metadata": {},
   "outputs": [],
   "source": [
    "inicia_conexao(\"https://finance.yahoo.com\")"
   ]
  },
  {
   "cell_type": "markdown",
   "metadata": {},
   "source": [
    "## Pegando preços da ação da IBM"
   ]
  },
  {
   "cell_type": "code",
   "execution_count": 239,
   "metadata": {},
   "outputs": [
    {
     "name": "stdout",
     "output_type": "stream",
     "text": [
      "          data  preco_abertura  preco_maximo  preco_minimo  preco_fechamento  \\\n",
      "0   06/01/2023          142.38        144.25        141.58            143.70   \n",
      "1   05/01/2023          142.44        142.50        140.01            141.11   \n",
      "2   04/01/2023          142.07        143.62        141.37            142.60   \n",
      "3   03/01/2023          141.10        141.90        140.48            141.55   \n",
      "4   30/12/2022          140.54        140.90        139.45            140.89   \n",
      "5   29/12/2022          140.58        142.26        140.45            141.06   \n",
      "6   28/12/2022          142.40        142.81        139.95            140.02   \n",
      "7   27/12/2022          141.73        142.72        141.23            142.42   \n",
      "8   23/12/2022          140.59        141.86        139.60            141.65   \n",
      "9   22/12/2022          140.95        141.44        138.62            140.88   \n",
      "10  21/12/2022          141.84        143.09        140.98            142.14   \n",
      "11  20/12/2022          138.84        141.43        138.34            141.28   \n",
      "12  19/12/2022          140.16        140.44        137.20            138.87   \n",
      "13  16/12/2022          141.25        141.92        138.97            140.16   \n",
      "14  15/12/2022          148.52        148.98        141.58            142.36   \n",
      "15  14/12/2022          150.47        151.91        148.45            149.86   \n",
      "16  13/12/2022          150.37        153.21        149.95            150.57   \n",
      "17  12/12/2022          147.82        149.21        146.94            149.21   \n",
      "18  09/12/2022          147.40        148.34        146.97            147.05   \n",
      "19  08/12/2022          147.90        149.15        147.37            147.78   \n",
      "20  07/12/2022          147.33        148.10        146.29            147.27   \n",
      "21  06/12/2022          147.30        147.80        146.70            147.50   \n",
      "22  05/12/2022          147.94        148.93        146.80            147.41   \n",
      "23  02/12/2022          148.13        149.16        147.73            148.67   \n",
      "24  01/12/2022          149.98        150.01        147.34            149.16   \n",
      "25  30/11/2022          146.19        149.64        145.67            148.90   \n",
      "26  29/11/2022          145.91        147.17        145.70            146.49   \n",
      "27  28/11/2022          147.98        148.24        145.94            146.18   \n",
      "28  25/11/2022          148.27        149.49        148.10            148.37   \n",
      "29  23/11/2022          149.10        150.46        148.30            148.75   \n",
      "30  22/11/2022          147.60        149.35        147.02            149.10   \n",
      "31  21/11/2022          147.55        147.93        146.45            146.68   \n",
      "32  18/11/2022          146.56        148.31        145.94            147.64   \n",
      "33  17/11/2022          143.41        146.18        143.25            146.09   \n",
      "34  16/11/2022          144.13        144.95        144.01            144.52   \n",
      "35  15/11/2022          144.08        146.16        142.00            144.34   \n",
      "36  14/11/2022          142.63        146.08        142.18            144.20   \n",
      "37  11/11/2022          141.50        144.13        140.96            143.17   \n",
      "38  10/11/2022          140.26        141.37        138.29            141.23   \n",
      "39  09/11/2022          137.95        138.90        136.94            137.39   \n",
      "\n",
      "    fechamento_ajustado  volume_transacoes  \n",
      "0                143.70          3316917.0  \n",
      "1                141.11          2866600.0  \n",
      "2                142.60          3869200.0  \n",
      "3                141.55          3338600.0  \n",
      "4                140.89          2858000.0  \n",
      "5                141.06          2337200.0  \n",
      "6                140.02          2539500.0  \n",
      "7                142.42          2742400.0  \n",
      "8                141.65          2092500.0  \n",
      "9                140.88          3337100.0  \n",
      "10               142.14          3793700.0  \n",
      "11               141.28          5156500.0  \n",
      "12               138.87          5282900.0  \n",
      "13               140.16          9834400.0  \n",
      "14               142.36          6687000.0  \n",
      "15               149.86          4205900.0  \n",
      "16               150.57          8811500.0  \n",
      "17               149.21          4032800.0  \n",
      "18               147.05          3047600.0  \n",
      "19               147.78          2665700.0  \n",
      "20               147.27          3971300.0  \n",
      "21               147.50          2847600.0  \n",
      "22               147.41          2784600.0  \n",
      "23               148.67          2900000.0  \n",
      "24               149.16          4495900.0  \n",
      "25               148.90          6377600.0  \n",
      "26               146.49          2754700.0  \n",
      "27               146.18          3538100.0  \n",
      "28               148.37          2075200.0  \n",
      "29               148.75          3658200.0  \n",
      "30               149.10          7062100.0  \n",
      "31               146.68          3476200.0  \n",
      "32               147.64          4661700.0  \n",
      "33               146.09          3954000.0  \n",
      "34               144.52          3445200.0  \n",
      "35               144.34          4727100.0  \n",
      "36               144.20          5293500.0  \n",
      "37               143.17          5871300.0  \n",
      "38               141.23          5389000.0  \n",
      "39               137.39          4720000.0  \n"
     ]
    }
   ],
   "source": [
    "# Pesquisando IBM pela barra de pesquisa e esperando 2 segundos para atualização da página\n",
    "pesquisa(\"IBM\")\n",
    "time.sleep(2)\n",
    "\n",
    "# Clicando em Histórico\n",
    "historico(\"acao\")\n",
    "time.sleep(2)\n",
    "\n",
    "# Retornando os dados em um dataframe\n",
    "precos_ibm = pega_conteudo()\n",
    "\n",
    "print(precos_ibm)"
   ]
  },
  {
   "cell_type": "markdown",
   "metadata": {},
   "source": [
    "## Pesquisando preços da Apple"
   ]
  },
  {
   "cell_type": "code",
   "execution_count": 240,
   "metadata": {},
   "outputs": [
    {
     "name": "stdout",
     "output_type": "stream",
     "text": [
      "         data  preco_abertura  preco_maximo  preco_minimo  preco_fechamento  \\\n",
      "0  06/01/2023          126.01        130.29        124.90            129.62   \n",
      "1  05/01/2023          127.13        127.77        124.76            125.02   \n",
      "2  04/01/2023          126.89        128.66        125.08            126.36   \n",
      "3  03/01/2023          130.28        130.90        124.17            125.07   \n",
      "4  30/12/2022          128.41        129.95        127.43            129.93   \n",
      "\n",
      "   fechamento_ajustado  volume_transacoes  \n",
      "0               129.62         84659517.0  \n",
      "1               125.02         80962700.0  \n",
      "2               126.36         89113600.0  \n",
      "3               125.07        112117500.0  \n",
      "4               129.93         76960600.0  \n"
     ]
    }
   ],
   "source": [
    "# Pesquisando Apple pela barra de pesquisa e esperando 2 segundos para atualização da página\n",
    "pesquisa(\"AAPL\")\n",
    "time.sleep(2)\n",
    "\n",
    "# Clicando em Histórico passando se é uma ação ou um índice\n",
    "historico(\"acao\")\n",
    "time.sleep(2)\n",
    "\n",
    "# Retornando os dados em um dataframe\n",
    "precos_apple = pega_conteudo()\n",
    "\n",
    "print(precos_apple.head())"
   ]
  },
  {
   "cell_type": "markdown",
   "metadata": {},
   "source": [
    "## Pegando Preços das ações da Ford"
   ]
  },
  {
   "cell_type": "code",
   "execution_count": 241,
   "metadata": {},
   "outputs": [
    {
     "name": "stdout",
     "output_type": "stream",
     "text": [
      "         data  preco_abertura  preco_maximo  preco_minimo  preco_fechamento  \\\n",
      "0  06/01/2023           12.12         12.59         12.10             12.58   \n",
      "1  05/01/2023           12.11         12.38         11.88             12.25   \n",
      "2  04/01/2023           11.88         12.08         11.74             12.01   \n",
      "3  03/01/2023           11.82         11.92         11.57             11.68   \n",
      "4  30/12/2022           11.40         11.64         11.39             11.63   \n",
      "\n",
      "   fechamento_ajustado  volume_transacoes  \n",
      "0                12.58         52359134.0  \n",
      "1                12.25         50785600.0  \n",
      "2                12.01         53429700.0  \n",
      "3                11.68         45809000.0  \n",
      "4                11.63         39149700.0  \n"
     ]
    }
   ],
   "source": [
    "# Pesquisando Ford pela barra de pesquisa e esperando 2 segundos para atualização da página\n",
    "pesquisa(\"F\")\n",
    "time.sleep(2)\n",
    "\n",
    "# Clicando em Histórico passando se é uma ação ou um índice\n",
    "historico(\"acao\")\n",
    "time.sleep(2)\n",
    "\n",
    "# Retornando os dados em um dataframe\n",
    "precos_ford = pega_conteudo()\n",
    "\n",
    "print(precos_ford.head())"
   ]
  },
  {
   "cell_type": "markdown",
   "metadata": {},
   "source": [
    "## Tratamento das Colunas de Data"
   ]
  },
  {
   "cell_type": "code",
   "execution_count": 242,
   "metadata": {},
   "outputs": [],
   "source": [
    "precos_apple['data'] = pd.to_datetime(precos_apple['data']).dt.strftime('%Y-%m-%d')\n",
    "precos_apple = precos_apple.sort_values(by = ['data'])\n",
    "\n",
    "precos_ford['data'] = pd.to_datetime(precos_ford['data']).dt.strftime('%Y-%m-%d')\n",
    "precos_ford = precos_ford.sort_values(by = ['data'])\n",
    "\n",
    "precos_ibm['data'] = pd.to_datetime(precos_ibm['data']).dt.strftime('%Y-%m-%d')\n",
    "precos_ibm = precos_ibm.sort_values(by = ['data'])"
   ]
  },
  {
   "cell_type": "markdown",
   "metadata": {},
   "source": [
    "## Analisando Retornos Simples"
   ]
  },
  {
   "cell_type": "markdown",
   "metadata": {},
   "source": [
    "## Métricas: \n",
    "- Média\n",
    "- Mediana\n",
    "- Desvio Padrão"
   ]
  },
  {
   "cell_type": "code",
   "execution_count": 243,
   "metadata": {},
   "outputs": [
    {
     "data": {
      "text/html": [
       "<div>\n",
       "<style scoped>\n",
       "    .dataframe tbody tr th:only-of-type {\n",
       "        vertical-align: middle;\n",
       "    }\n",
       "\n",
       "    .dataframe tbody tr th {\n",
       "        vertical-align: top;\n",
       "    }\n",
       "\n",
       "    .dataframe thead th {\n",
       "        text-align: right;\n",
       "    }\n",
       "</style>\n",
       "<table border=\"1\" class=\"dataframe\">\n",
       "  <thead>\n",
       "    <tr style=\"text-align: right;\">\n",
       "      <th></th>\n",
       "      <th>data</th>\n",
       "      <th>preco_abertura</th>\n",
       "      <th>preco_maximo</th>\n",
       "      <th>preco_minimo</th>\n",
       "      <th>preco_fechamento</th>\n",
       "      <th>fechamento_ajustado</th>\n",
       "      <th>volume_transacoes</th>\n",
       "      <th>retorno_simples</th>\n",
       "    </tr>\n",
       "  </thead>\n",
       "  <tbody>\n",
       "    <tr>\n",
       "      <th>24</th>\n",
       "      <td>2022-01-12</td>\n",
       "      <td>148.21</td>\n",
       "      <td>149.13</td>\n",
       "      <td>146.61</td>\n",
       "      <td>148.31</td>\n",
       "      <td>148.31</td>\n",
       "      <td>71250400.0</td>\n",
       "      <td>NaN</td>\n",
       "    </tr>\n",
       "    <tr>\n",
       "      <th>23</th>\n",
       "      <td>2022-02-12</td>\n",
       "      <td>145.96</td>\n",
       "      <td>148.00</td>\n",
       "      <td>145.65</td>\n",
       "      <td>147.81</td>\n",
       "      <td>147.81</td>\n",
       "      <td>65447400.0</td>\n",
       "      <td>-0.003371</td>\n",
       "    </tr>\n",
       "    <tr>\n",
       "      <th>42</th>\n",
       "      <td>2022-04-11</td>\n",
       "      <td>142.09</td>\n",
       "      <td>142.67</td>\n",
       "      <td>134.38</td>\n",
       "      <td>138.38</td>\n",
       "      <td>138.38</td>\n",
       "      <td>140814800.0</td>\n",
       "      <td>-0.063798</td>\n",
       "    </tr>\n",
       "    <tr>\n",
       "      <th>22</th>\n",
       "      <td>2022-05-12</td>\n",
       "      <td>147.77</td>\n",
       "      <td>150.92</td>\n",
       "      <td>145.77</td>\n",
       "      <td>146.63</td>\n",
       "      <td>146.63</td>\n",
       "      <td>68826400.0</td>\n",
       "      <td>0.059618</td>\n",
       "    </tr>\n",
       "    <tr>\n",
       "      <th>21</th>\n",
       "      <td>2022-06-12</td>\n",
       "      <td>147.07</td>\n",
       "      <td>147.30</td>\n",
       "      <td>141.92</td>\n",
       "      <td>142.91</td>\n",
       "      <td>142.91</td>\n",
       "      <td>64727200.0</td>\n",
       "      <td>-0.025370</td>\n",
       "    </tr>\n",
       "  </tbody>\n",
       "</table>\n",
       "</div>"
      ],
      "text/plain": [
       "          data  preco_abertura  preco_maximo  preco_minimo  preco_fechamento  \\\n",
       "24  2022-01-12          148.21        149.13        146.61            148.31   \n",
       "23  2022-02-12          145.96        148.00        145.65            147.81   \n",
       "42  2022-04-11          142.09        142.67        134.38            138.38   \n",
       "22  2022-05-12          147.77        150.92        145.77            146.63   \n",
       "21  2022-06-12          147.07        147.30        141.92            142.91   \n",
       "\n",
       "    fechamento_ajustado  volume_transacoes  retorno_simples  \n",
       "24               148.31         71250400.0              NaN  \n",
       "23               147.81         65447400.0        -0.003371  \n",
       "42               138.38        140814800.0        -0.063798  \n",
       "22               146.63         68826400.0         0.059618  \n",
       "21               142.91         64727200.0        -0.025370  "
      ]
     },
     "execution_count": 243,
     "metadata": {},
     "output_type": "execute_result"
    }
   ],
   "source": [
    "precos_apple['retorno_simples'] = (precos_apple.fechamento_ajustado/precos_apple.fechamento_ajustado.shift(1)) - 1\n",
    "precos_apple.head()"
   ]
  },
  {
   "cell_type": "code",
   "execution_count": 244,
   "metadata": {},
   "outputs": [
    {
     "name": "stdout",
     "output_type": "stream",
     "text": [
      "A média de retorno diário é por volta de -0.0028260383285170407\n",
      "A mediana de retorno diário é por volta de -0.0058512142699509995\n",
      "E possui um desvio padrão de 0.02775081546006478\n",
      "O retorno médio por ano: -0.7065095821292602\n"
     ]
    }
   ],
   "source": [
    "media = precos_apple.retorno_simples.mean()\n",
    "print(f'A média de retorno diário é por volta de {precos_apple.retorno_simples.mean()}')\n",
    "\n",
    "print(f'A mediana de retorno diário é por volta de {precos_apple.retorno_simples.median()}')\n",
    "\n",
    "dp = st.stdev(precos_apple[np.isnan(precos_apple.retorno_simples) == False].retorno_simples)\n",
    "print(f'E possui um desvio padrão de {dp}')\n",
    "\n",
    "print(f'O retorno médio por ano: {precos_apple.retorno_simples.mean()*250}')"
   ]
  },
  {
   "cell_type": "code",
   "execution_count": 245,
   "metadata": {},
   "outputs": [
    {
     "data": {
      "text/plain": [
       "Text(0.5, 1.0, 'Gráfico de Retorno Simples Diário - Apple')"
      ]
     },
     "execution_count": 245,
     "metadata": {},
     "output_type": "execute_result"
    },
    {
     "data": {
      "image/png": "[encoded data removed]",
      "text/plain": [
       "<Figure size 1080x360 with 1 Axes>"
      ]
     },
     "metadata": {},
     "output_type": "display_data"
    }
   ],
   "source": [
    "fig, ax = plt.subplots(figsize = (15,5))\n",
    "ax.plot(precos_apple['data'], precos_apple['retorno_simples'])\n",
    "locs, labels = plt.xticks(rotation=45)\n",
    "ax.axhline(y = 0, color = 'blue')\n",
    "ax.axhline(y = media, color = 'purple')\n",
    "ax.axhline(y = media + dp, color = 'orange')\n",
    "ax.axhline(y = media - dp, color = 'orange')\n",
    "ax.set_title('Gráfico de Retorno Simples Diário - Apple')"
   ]
  },
  {
   "cell_type": "code",
   "execution_count": 246,
   "metadata": {},
   "outputs": [
    {
     "data": {
      "text/html": [
       "<div>\n",
       "<style scoped>\n",
       "    .dataframe tbody tr th:only-of-type {\n",
       "        vertical-align: middle;\n",
       "    }\n",
       "\n",
       "    .dataframe tbody tr th {\n",
       "        vertical-align: top;\n",
       "    }\n",
       "\n",
       "    .dataframe thead th {\n",
       "        text-align: right;\n",
       "    }\n",
       "</style>\n",
       "<table border=\"1\" class=\"dataframe\">\n",
       "  <thead>\n",
       "    <tr style=\"text-align: right;\">\n",
       "      <th></th>\n",
       "      <th>data</th>\n",
       "      <th>preco_abertura</th>\n",
       "      <th>preco_maximo</th>\n",
       "      <th>preco_minimo</th>\n",
       "      <th>preco_fechamento</th>\n",
       "      <th>fechamento_ajustado</th>\n",
       "      <th>volume_transacoes</th>\n",
       "      <th>retorno_simples</th>\n",
       "    </tr>\n",
       "  </thead>\n",
       "  <tbody>\n",
       "    <tr>\n",
       "      <th>24</th>\n",
       "      <td>2022-01-12</td>\n",
       "      <td>14.09</td>\n",
       "      <td>14.36</td>\n",
       "      <td>14.00</td>\n",
       "      <td>14.08</td>\n",
       "      <td>14.08</td>\n",
       "      <td>45335100.0</td>\n",
       "      <td>NaN</td>\n",
       "    </tr>\n",
       "    <tr>\n",
       "      <th>23</th>\n",
       "      <td>2022-02-12</td>\n",
       "      <td>13.84</td>\n",
       "      <td>13.97</td>\n",
       "      <td>13.75</td>\n",
       "      <td>13.86</td>\n",
       "      <td>13.86</td>\n",
       "      <td>42417400.0</td>\n",
       "      <td>-0.015625</td>\n",
       "    </tr>\n",
       "    <tr>\n",
       "      <th>22</th>\n",
       "      <td>2022-05-12</td>\n",
       "      <td>13.75</td>\n",
       "      <td>13.77</td>\n",
       "      <td>13.37</td>\n",
       "      <td>13.38</td>\n",
       "      <td>13.38</td>\n",
       "      <td>39714500.0</td>\n",
       "      <td>-0.034632</td>\n",
       "    </tr>\n",
       "    <tr>\n",
       "      <th>21</th>\n",
       "      <td>2022-06-12</td>\n",
       "      <td>13.42</td>\n",
       "      <td>13.57</td>\n",
       "      <td>13.06</td>\n",
       "      <td>13.28</td>\n",
       "      <td>13.28</td>\n",
       "      <td>39996000.0</td>\n",
       "      <td>-0.007474</td>\n",
       "    </tr>\n",
       "    <tr>\n",
       "      <th>20</th>\n",
       "      <td>2022-07-12</td>\n",
       "      <td>13.20</td>\n",
       "      <td>13.42</td>\n",
       "      <td>13.09</td>\n",
       "      <td>13.10</td>\n",
       "      <td>13.10</td>\n",
       "      <td>36609800.0</td>\n",
       "      <td>-0.013554</td>\n",
       "    </tr>\n",
       "  </tbody>\n",
       "</table>\n",
       "</div>"
      ],
      "text/plain": [
       "          data  preco_abertura  preco_maximo  preco_minimo  preco_fechamento  \\\n",
       "24  2022-01-12           14.09         14.36         14.00             14.08   \n",
       "23  2022-02-12           13.84         13.97         13.75             13.86   \n",
       "22  2022-05-12           13.75         13.77         13.37             13.38   \n",
       "21  2022-06-12           13.42         13.57         13.06             13.28   \n",
       "20  2022-07-12           13.20         13.42         13.09             13.10   \n",
       "\n",
       "    fechamento_ajustado  volume_transacoes  retorno_simples  \n",
       "24                14.08         45335100.0              NaN  \n",
       "23                13.86         42417400.0        -0.015625  \n",
       "22                13.38         39714500.0        -0.034632  \n",
       "21                13.28         39996000.0        -0.007474  \n",
       "20                13.10         36609800.0        -0.013554  "
      ]
     },
     "execution_count": 246,
     "metadata": {},
     "output_type": "execute_result"
    }
   ],
   "source": [
    "precos_ford['retorno_simples'] = (precos_ford.fechamento_ajustado/precos_ford.fechamento_ajustado.shift(1)) - 1\n",
    "precos_ford.head()"
   ]
  },
  {
   "cell_type": "code",
   "execution_count": 247,
   "metadata": {},
   "outputs": [
    {
     "name": "stdout",
     "output_type": "stream",
     "text": [
      "A média de retorno diário é por volta de -0.0027836893553996878\n",
      "A mediana de retorno diário é por volta de 0.0010880443496622538\n",
      "E possui um desvio padrão de 0.0264556587723925\n",
      "O retorno médio por ano: -0.6959223388499219\n"
     ]
    }
   ],
   "source": [
    "media = precos_ford.retorno_simples.mean()\n",
    "print(f'A média de retorno diário é por volta de {precos_ford.retorno_simples.mean()}')\n",
    "\n",
    "print(f'A mediana de retorno diário é por volta de {precos_ford.retorno_simples.median()}')\n",
    "\n",
    "dp = st.stdev(precos_ford[np.isnan(precos_ford.retorno_simples) == False].retorno_simples)\n",
    "print(f'E possui um desvio padrão de {dp}')\n",
    "\n",
    "print(f'O retorno médio por ano: {precos_ford.retorno_simples.mean()*250}')"
   ]
  },
  {
   "cell_type": "code",
   "execution_count": 248,
   "metadata": {},
   "outputs": [
    {
     "data": {
      "text/plain": [
       "Text(0.5, 1.0, 'Gráfico de Retorno Simples Diário - Ford')"
      ]
     },
     "execution_count": 248,
     "metadata": {},
     "output_type": "execute_result"
    },
    {
     "data": {
      "image/png": "[encoded data removed]",
      "text/plain": [
       "<Figure size 1080x360 with 1 Axes>"
      ]
     },
     "metadata": {},
     "output_type": "display_data"
    }
   ],
   "source": [
    "fig, ax = plt.subplots(figsize = (15,5))\n",
    "ax.plot(precos_ford['data'], precos_ford['retorno_simples'])\n",
    "locs, labels = plt.xticks(rotation=45)\n",
    "ax.axhline(y = 0, color = 'blue')\n",
    "ax.axhline(y = media, color = 'purple')\n",
    "ax.axhline(y = media + dp, color = 'orange')\n",
    "ax.axhline(y = media - dp, color = 'orange')\n",
    "ax.set_title('Gráfico de Retorno Simples Diário - Ford')"
   ]
  },
  {
   "cell_type": "code",
   "execution_count": 249,
   "metadata": {},
   "outputs": [
    {
     "data": {
      "text/html": [
       "<div>\n",
       "<style scoped>\n",
       "    .dataframe tbody tr th:only-of-type {\n",
       "        vertical-align: middle;\n",
       "    }\n",
       "\n",
       "    .dataframe tbody tr th {\n",
       "        vertical-align: top;\n",
       "    }\n",
       "\n",
       "    .dataframe thead th {\n",
       "        text-align: right;\n",
       "    }\n",
       "</style>\n",
       "<table border=\"1\" class=\"dataframe\">\n",
       "  <thead>\n",
       "    <tr style=\"text-align: right;\">\n",
       "      <th></th>\n",
       "      <th>data</th>\n",
       "      <th>preco_abertura</th>\n",
       "      <th>preco_maximo</th>\n",
       "      <th>preco_minimo</th>\n",
       "      <th>preco_fechamento</th>\n",
       "      <th>fechamento_ajustado</th>\n",
       "      <th>volume_transacoes</th>\n",
       "      <th>retorno_simples</th>\n",
       "    </tr>\n",
       "  </thead>\n",
       "  <tbody>\n",
       "    <tr>\n",
       "      <th>24</th>\n",
       "      <td>2022-01-12</td>\n",
       "      <td>149.98</td>\n",
       "      <td>150.01</td>\n",
       "      <td>147.34</td>\n",
       "      <td>149.16</td>\n",
       "      <td>149.16</td>\n",
       "      <td>4495900.0</td>\n",
       "      <td>NaN</td>\n",
       "    </tr>\n",
       "    <tr>\n",
       "      <th>23</th>\n",
       "      <td>2022-02-12</td>\n",
       "      <td>148.13</td>\n",
       "      <td>149.16</td>\n",
       "      <td>147.73</td>\n",
       "      <td>148.67</td>\n",
       "      <td>148.67</td>\n",
       "      <td>2900000.0</td>\n",
       "      <td>-0.003285</td>\n",
       "    </tr>\n",
       "    <tr>\n",
       "      <th>22</th>\n",
       "      <td>2022-05-12</td>\n",
       "      <td>147.94</td>\n",
       "      <td>148.93</td>\n",
       "      <td>146.80</td>\n",
       "      <td>147.41</td>\n",
       "      <td>147.41</td>\n",
       "      <td>2784600.0</td>\n",
       "      <td>-0.008475</td>\n",
       "    </tr>\n",
       "    <tr>\n",
       "      <th>21</th>\n",
       "      <td>2022-06-12</td>\n",
       "      <td>147.30</td>\n",
       "      <td>147.80</td>\n",
       "      <td>146.70</td>\n",
       "      <td>147.50</td>\n",
       "      <td>147.50</td>\n",
       "      <td>2847600.0</td>\n",
       "      <td>0.000611</td>\n",
       "    </tr>\n",
       "    <tr>\n",
       "      <th>20</th>\n",
       "      <td>2022-07-12</td>\n",
       "      <td>147.33</td>\n",
       "      <td>148.10</td>\n",
       "      <td>146.29</td>\n",
       "      <td>147.27</td>\n",
       "      <td>147.27</td>\n",
       "      <td>3971300.0</td>\n",
       "      <td>-0.001559</td>\n",
       "    </tr>\n",
       "  </tbody>\n",
       "</table>\n",
       "</div>"
      ],
      "text/plain": [
       "          data  preco_abertura  preco_maximo  preco_minimo  preco_fechamento  \\\n",
       "24  2022-01-12          149.98        150.01        147.34            149.16   \n",
       "23  2022-02-12          148.13        149.16        147.73            148.67   \n",
       "22  2022-05-12          147.94        148.93        146.80            147.41   \n",
       "21  2022-06-12          147.30        147.80        146.70            147.50   \n",
       "20  2022-07-12          147.33        148.10        146.29            147.27   \n",
       "\n",
       "    fechamento_ajustado  volume_transacoes  retorno_simples  \n",
       "24               149.16          4495900.0              NaN  \n",
       "23               148.67          2900000.0        -0.003285  \n",
       "22               147.41          2784600.0        -0.008475  \n",
       "21               147.50          2847600.0         0.000611  \n",
       "20               147.27          3971300.0        -0.001559  "
      ]
     },
     "execution_count": 249,
     "metadata": {},
     "output_type": "execute_result"
    }
   ],
   "source": [
    "precos_ibm['retorno_simples'] = (precos_ibm.fechamento_ajustado/precos_ibm.fechamento_ajustado.shift(1)) - 1\n",
    "precos_ibm.head()"
   ]
  },
  {
   "cell_type": "code",
   "execution_count": 250,
   "metadata": {},
   "outputs": [
    {
     "name": "stdout",
     "output_type": "stream",
     "text": [
      "A média de retorno diário é por volta de -0.0007348257299896444\n",
      "A mediana de retorno diário é por volta de 0.0012470555632535518\n",
      "E possui um desvio padrão de 0.021213387630631065\n",
      "O retorno médio por ano: -0.1837064324974111\n"
     ]
    }
   ],
   "source": [
    "media = precos_ibm.retorno_simples.mean()\n",
    "print(f'A média de retorno diário é por volta de {precos_ibm.retorno_simples.mean()}')\n",
    "\n",
    "print(f'A mediana de retorno diário é por volta de {precos_ibm.retorno_simples.median()}')\n",
    "\n",
    "dp = st.stdev(precos_ibm[np.isnan(precos_ibm.retorno_simples) == False].retorno_simples)\n",
    "print(f'E possui um desvio padrão de {dp}')\n",
    "\n",
    "print(f'O retorno médio por ano: {precos_ibm.retorno_simples.mean()*250}')"
   ]
  },
  {
   "cell_type": "code",
   "execution_count": 251,
   "metadata": {},
   "outputs": [
    {
     "data": {
      "text/plain": [
       "Text(0.5, 1.0, 'Gráfico de Retorno Simples Diário - IBM')"
      ]
     },
     "execution_count": 251,
     "metadata": {},
     "output_type": "execute_result"
    },
    {
     "data": {
      "image/png": "[encoded data removed]",
      "text/plain": [
       "<Figure size 1080x360 with 1 Axes>"
      ]
     },
     "metadata": {},
     "output_type": "display_data"
    }
   ],
   "source": [
    "fig, ax = plt.subplots(figsize = (15,5))\n",
    "ax.plot(precos_ibm['data'], precos_ibm['retorno_simples'])\n",
    "locs, labels = plt.xticks(rotation=45)\n",
    "ax.axhline(y = 0, color = 'blue')\n",
    "ax.axhline(y = media, color = 'purple')\n",
    "ax.axhline(y = media + dp, color = 'orange')\n",
    "ax.axhline(y = media - dp, color = 'orange')\n",
    "ax.set_title('Gráfico de Retorno Simples Diário - IBM')"
   ]
  },
  {
   "cell_type": "markdown",
   "metadata": {},
   "source": [
    "## Comparando o comportamento de cada ativo"
   ]
  },
  {
   "cell_type": "code",
   "execution_count": 252,
   "metadata": {},
   "outputs": [],
   "source": [
    "precos_apple.columns = ['data', 'preco_abertura', 'preco_maximo', 'preco_minimo', \\\n",
    "                        'preco_fechamento', 'fechamento_ajustado_apple', 'volume_transacoes', \\\n",
    "                        'retorno_simples']\n",
    "\n",
    "precos_ford.columns = ['data', 'preco_abertura', 'preco_maximo', 'preco_minimo', \\\n",
    "                        'preco_fechamento', 'fechamento_ajustado_ford', 'volume_transacoes', \\\n",
    "                        'retorno_simples']\n",
    "\n",
    "precos_ibm.columns = ['data', 'preco_abertura', 'preco_maximo', 'preco_minimo', \\\n",
    "                        'preco_fechamento', 'fechamento_ajustado_ibm', 'volume_transacoes', \\\n",
    "                        'retorno_simples']"
   ]
  },
  {
   "cell_type": "code",
   "execution_count": 253,
   "metadata": {
    "scrolled": true
   },
   "outputs": [
    {
     "data": {
      "text/html": [
       "<div>\n",
       "<style scoped>\n",
       "    .dataframe tbody tr th:only-of-type {\n",
       "        vertical-align: middle;\n",
       "    }\n",
       "\n",
       "    .dataframe tbody tr th {\n",
       "        vertical-align: top;\n",
       "    }\n",
       "\n",
       "    .dataframe thead th {\n",
       "        text-align: right;\n",
       "    }\n",
       "</style>\n",
       "<table border=\"1\" class=\"dataframe\">\n",
       "  <thead>\n",
       "    <tr style=\"text-align: right;\">\n",
       "      <th></th>\n",
       "      <th>fechamento_ajustado_apple</th>\n",
       "      <th>fechamento_ajustado_ibm</th>\n",
       "      <th>fechamento_ajustado_ford</th>\n",
       "    </tr>\n",
       "    <tr>\n",
       "      <th>data</th>\n",
       "      <th></th>\n",
       "      <th></th>\n",
       "      <th></th>\n",
       "    </tr>\n",
       "  </thead>\n",
       "  <tbody>\n",
       "    <tr>\n",
       "      <th>2022-01-12</th>\n",
       "      <td>148.31</td>\n",
       "      <td>149.16</td>\n",
       "      <td>14.08</td>\n",
       "    </tr>\n",
       "    <tr>\n",
       "      <th>2022-02-12</th>\n",
       "      <td>147.81</td>\n",
       "      <td>148.67</td>\n",
       "      <td>13.86</td>\n",
       "    </tr>\n",
       "    <tr>\n",
       "      <th>2022-04-11</th>\n",
       "      <td>138.38</td>\n",
       "      <td>NaN</td>\n",
       "      <td>NaN</td>\n",
       "    </tr>\n",
       "    <tr>\n",
       "      <th>2022-05-12</th>\n",
       "      <td>146.63</td>\n",
       "      <td>147.41</td>\n",
       "      <td>13.38</td>\n",
       "    </tr>\n",
       "    <tr>\n",
       "      <th>2022-06-12</th>\n",
       "      <td>142.91</td>\n",
       "      <td>147.50</td>\n",
       "      <td>13.28</td>\n",
       "    </tr>\n",
       "  </tbody>\n",
       "</table>\n",
       "</div>"
      ],
      "text/plain": [
       "            fechamento_ajustado_apple  fechamento_ajustado_ibm  \\\n",
       "data                                                             \n",
       "2022-01-12                     148.31                   149.16   \n",
       "2022-02-12                     147.81                   148.67   \n",
       "2022-04-11                     138.38                      NaN   \n",
       "2022-05-12                     146.63                   147.41   \n",
       "2022-06-12                     142.91                   147.50   \n",
       "\n",
       "            fechamento_ajustado_ford  \n",
       "data                                  \n",
       "2022-01-12                     14.08  \n",
       "2022-02-12                     13.86  \n",
       "2022-04-11                       NaN  \n",
       "2022-05-12                     13.38  \n",
       "2022-06-12                     13.28  "
      ]
     },
     "execution_count": 253,
     "metadata": {},
     "output_type": "execute_result"
    }
   ],
   "source": [
    "# Realizando join para puxar apenas preço de fechamento dos ativos\n",
    "\n",
    "df = precos_apple.iloc[:,[0,5]].merge(precos_ibm.iloc[:,[0,5]], on = 'data', how = 'left') \\\n",
    "                               .merge(precos_ford.iloc[:,[0,5]], on = 'data', how = 'left')\n",
    "\n",
    "# Retirando coluna de data\n",
    "df.index = df['data']\n",
    "df = df.drop(columns = 'data')\n",
    "\n",
    "df.head()"
   ]
  },
  {
   "cell_type": "code",
   "execution_count": 254,
   "metadata": {
    "scrolled": false
   },
   "outputs": [
    {
     "data": {
      "image/png": "[encoded data removed]",
      "text/plain": [
       "<Figure size 1080x360 with 1 Axes>"
      ]
     },
     "metadata": {},
     "output_type": "display_data"
    }
   ],
   "source": [
    "# Comparando\n",
    "\n",
    "fig, ax = plt.subplots(figsize = (15,5))\n",
    "ax.plot(df * 100/ df.iloc[0])\n",
    "locs, labels = plt.xticks(rotation=45)"
   ]
  },
  {
   "cell_type": "markdown",
   "metadata": {},
   "source": [
    "## Objetivo\n",
    "\n",
    "<br>Iremos estimar o retorno de um portfólio considerando a taxa de retorno simples de cada ação e sua contribuição </br>\n",
    "<br>A taxa de retorno de um ativo é simplesmente a diferença entre seu preço quando comprado e quando vendido em percentual:</br>\n",
    "\n",
    "$$ retorno = \\frac{preço_f \\,- \\,preço_i}{preço_i} $$\n",
    "\n",
    "<br>Considerando o retorno de cada ação e sua partipação o retorno total da carteira estimado será:</br>\n",
    "\n",
    "$$ retorno_t = investimento \\,\\sum^{n}_{i=1} r_i . p_i  $$\n",
    "\n",
    "<br>Sendo $r_i$ o retorno do ativo i e $p_i$ seu percentual de partipação na carteira </br>"
   ]
  },
  {
   "cell_type": "markdown",
   "metadata": {},
   "source": [
    "## Caso 1:\n",
    "\n",
    "Consideraremos que Apple e Ford representam 40% do nosso portfólio cada e IBM 20%\n",
    "\n",
    "## Caso 2:\n",
    "\n",
    "Todos os ativos têm pesos iguais"
   ]
  },
  {
   "cell_type": "code",
   "execution_count": 259,
   "metadata": {},
   "outputs": [
    {
     "data": {
      "text/plain": [
       "[-0.7065095821292602, -0.6959223388499219, -0.1837064324974111]"
      ]
     },
     "execution_count": 259,
     "metadata": {},
     "output_type": "execute_result"
    }
   ],
   "source": [
    "## --------------- TAXAS DE RETORNO ---------- ##\n",
    "\n",
    "# Verificando taxa de retorno média anual\n",
    "\n",
    "tx_retorno_anual = []\n",
    "\n",
    "tx_retorno_anual.append(precos_apple.retorno_simples.mean()*250)\n",
    "tx_retorno_anual.append(precos_ford.retorno_simples.mean()*250)\n",
    "tx_retorno_anual.append(precos_ibm.retorno_simples.mean()*250)\n",
    "\n",
    "tx_retorno_anual"
   ]
  },
  {
   "cell_type": "code",
   "execution_count": 297,
   "metadata": {},
   "outputs": [
    {
     "data": {
      "text/plain": [
       "[-0.12601982334299777, -0.10653409090909094, -0.03660498793242162]"
      ]
     },
     "execution_count": 297,
     "metadata": {},
     "output_type": "execute_result"
    }
   ],
   "source": [
    "## --------------- TAXAS DE RETORNO ---------- ##\n",
    "\n",
    "# Verificando taxa de retorno efetivo\n",
    "\n",
    "tx_retorno_anual = []\n",
    "\n",
    "tx_retorno_anual.append((precos_apple.iloc[-1,5]/precos_apple.iloc[0,5]) - 1)\n",
    "tx_retorno_anual.append((precos_ford.iloc[-1,5]/precos_ford.iloc[0,5]) - 1)\n",
    "tx_retorno_anual.append((precos_ibm.iloc[-1,5]/precos_ibm.iloc[0,5]) - 1)\n",
    "\n",
    "tx_retorno_anual"
   ]
  },
  {
   "cell_type": "code",
   "execution_count": 298,
   "metadata": {
    "scrolled": true
   },
   "outputs": [
    {
     "name": "stdout",
     "output_type": "stream",
     "text": [
      "A ação 0 tem partipação de 0.4 e taxa de retorno -0.12601982334299777\n",
      "A ação 1 tem partipação de 0.4 e taxa de retorno -0.10653409090909094\n",
      "A ação 2 tem partipação de 0.2 e taxa de retorno -0.03660498793242162\n"
     ]
    }
   ],
   "source": [
    "## --------------- CASO 1 -------------------- ##\n",
    "\n",
    "participacao = [0.4, 0.4, 0.2]\n",
    "\n",
    "for i in range(len(participacao)):\n",
    "    print(f'A ação {i} tem partipação de {participacao[i]} e taxa de retorno {tx_retorno_anual[i]}')"
   ]
  },
  {
   "cell_type": "code",
   "execution_count": 299,
   "metadata": {},
   "outputs": [
    {
     "name": "stdout",
     "output_type": "stream",
     "text": [
      "O percentual de retorno da carteira foi -10.034256328731983 %\n",
      "O que rendeu -100.34256328731983\n"
     ]
    }
   ],
   "source": [
    "# Suponhamos que investimos em 1000 ativos, o retorno será:\n",
    "\n",
    "investimento = 1000\n",
    "\n",
    "print(f'O percentual de retorno da carteira foi {np.dot(tx_retorno_anual, participacao)*100} %')\n",
    "\n",
    "print(f'O que rendeu {investimento*(np.dot(tx_retorno_anual, participacao))}')"
   ]
  },
  {
   "cell_type": "code",
   "execution_count": 309,
   "metadata": {},
   "outputs": [
    {
     "name": "stdout",
     "output_type": "stream",
     "text": [
      "Investiu na Apple 400.0 e, ao fim, tinha 349.5920706628009\n",
      "Investiu na Ford 400.0 e, ao fim, tinha 357.3863636363636\n",
      "Investiu na IBM 200.0 e, ao fim, tinha 192.6790024135157\n",
      "Montante inicial: 1000\n",
      "Montante final: 899.6574367126802\n",
      "Perda de -0.10034256328731972\n"
     ]
    }
   ],
   "source": [
    "print(f'Investiu na Apple {investimento*participacao[0]} e, ao fim, tinha {precos_apple.iloc[-1,5]*investimento*participacao[0]/precos_apple.iloc[0,5]}')\n",
    "\n",
    "print(f'Investiu na Ford {investimento*participacao[1]} e, ao fim, tinha {precos_ford.iloc[-1,5]*investimento*participacao[1]/precos_ford.iloc[0,5]}')\n",
    "\n",
    "print(f'Investiu na IBM {investimento*participacao[2]} e, ao fim, tinha {precos_ibm.iloc[-1,5]*investimento*participacao[2]/precos_ibm.iloc[0,5]}')\n",
    "\n",
    "print(f'Montante inicial: {investimento}')\n",
    "print(f'Montante final: {(precos_apple.iloc[-1,5]*investimento*participacao[0]/precos_apple.iloc[0,5]) + (precos_ford.iloc[-1,5]*investimento*participacao[1]/precos_ford.iloc[0,5]) + (precos_ibm.iloc[-1,5]*investimento*participacao[2]/precos_ibm.iloc[0,5])}')\n",
    "print(f'Perda de {(precos_apple.iloc[-1,5]*investimento*participacao[0]/precos_apple.iloc[0,5] + precos_ford.iloc[-1,5]*investimento*participacao[1]/precos_ford.iloc[0,5] + precos_ibm.iloc[-1,5]*investimento*participacao[2]/precos_ibm.iloc[0,5])/1000 - 1}')"
   ]
  },
  {
   "cell_type": "code",
   "execution_count": 310,
   "metadata": {},
   "outputs": [
    {
     "name": "stdout",
     "output_type": "stream",
     "text": [
      "A ação 0 tem partipação de 0.3333333333333333 e taxa de retorno -0.12601982334299777\n",
      "A ação 1 tem partipação de 0.3333333333333333 e taxa de retorno -0.10653409090909094\n",
      "A ação 2 tem partipação de 0.3333333333333333 e taxa de retorno -0.03660498793242162\n"
     ]
    }
   ],
   "source": [
    "## --------------- CASO 2 -------------------- ##\n",
    "\n",
    "participacao = [1/3, 1/3, 1/3]\n",
    "\n",
    "for i in range(len(participacao)):\n",
    "    print(f'A ação {i} tem partipação de {participacao[i]} e taxa de retorno {tx_retorno_anual[i]}')"
   ]
  },
  {
   "cell_type": "code",
   "execution_count": 311,
   "metadata": {},
   "outputs": [
    {
     "name": "stdout",
     "output_type": "stream",
     "text": [
      "O percentual de retorno da carteira foi -8.971963406150344 %\n",
      "O que rendeu -89.71963406150343\n"
     ]
    }
   ],
   "source": [
    "# Suponhamos que investimos 1000 reais, o retorno será:\n",
    "\n",
    "investimento = 1000\n",
    "\n",
    "print(f'O percentual de retorno da carteira foi {np.dot(tx_retorno_anual, participacao)*100} %')\n",
    "\n",
    "print(f'O que rendeu {investimento*(np.dot(tx_retorno_anual, participacao))}')"
   ]
  },
  {
   "cell_type": "code",
   "execution_count": 312,
   "metadata": {},
   "outputs": [
    {
     "name": "stdout",
     "output_type": "stream",
     "text": [
      "Investiu na Apple 333.3333333333333 e, ao fim, tinha 291.32672555233404\n",
      "Investiu na Ford 333.3333333333333 e, ao fim, tinha 297.8219696969697\n",
      "Investiu na IBM 333.3333333333333 e, ao fim, tinha 321.13167068919284\n",
      "Montante inicial: 1000\n",
      "Montante final: 910.2803659384965\n",
      "Perda de -0.08971963406150352\n"
     ]
    }
   ],
   "source": [
    "print(f'Investiu na Apple {investimento*participacao[0]} e, ao fim, tinha {precos_apple.iloc[-1,5]*investimento*participacao[0]/precos_apple.iloc[0,5]}')\n",
    "\n",
    "print(f'Investiu na Ford {investimento*participacao[1]} e, ao fim, tinha {precos_ford.iloc[-1,5]*investimento*participacao[1]/precos_ford.iloc[0,5]}')\n",
    "\n",
    "print(f'Investiu na IBM {investimento*participacao[2]} e, ao fim, tinha {precos_ibm.iloc[-1,5]*investimento*participacao[2]/precos_ibm.iloc[0,5]}')\n",
    "\n",
    "print(f'Montante inicial: {investimento}')\n",
    "print(f'Montante final: {(precos_apple.iloc[-1,5]*investimento*participacao[0]/precos_apple.iloc[0,5]) + (precos_ford.iloc[-1,5]*investimento*participacao[1]/precos_ford.iloc[0,5]) + (precos_ibm.iloc[-1,5]*investimento*participacao[2]/precos_ibm.iloc[0,5])}')\n",
    "print(f'Perda de {(precos_apple.iloc[-1,5]*investimento*participacao[0]/precos_apple.iloc[0,5] + precos_ford.iloc[-1,5]*investimento*participacao[1]/precos_ford.iloc[0,5] + precos_ibm.iloc[-1,5]*investimento*participacao[2]/precos_ibm.iloc[0,5])/1000 - 1}')"
   ]
  },
  {
   "cell_type": "markdown",
   "metadata": {},
   "source": [
    "## Teoria de Markowitz"
   ]
  },
  {
   "cell_type": "code",
   "execution_count": null,
   "metadata": {},
   "outputs": [],
   "source": [
    "# retorno de uma carteira com 2 investimentos\n",
    "#acao 1 = a - fracao o\n",
    "#acao 2 = b - fracao 1-o\n",
    "#capital k\n",
    "#retornos de cada sao r1 e r2, com e(ri) = ui e var(ri) = desvio(ri)^2, para i = 1,2 \n",
    "#e p é coeficiente de correlacao entre os ativos\n",
    "#temos que\n",
    "# k(1 + r) = ok(1+r1) + (1-o)(1+r2)\n",
    "#r(o) = r1*o + r2(1-o) \n",
    "#casos mais simples"
   ]
  }
 ],
 "metadata": {
  "kernelspec": {
   "display_name": "Python 3",
   "language": "python",
   "name": "python3"
  },
  "language_info": {
   "codemirror_mode": {
    "name": "ipython",
    "version": 3
   },
   "file_extension": ".py",
   "mimetype": "text/x-python",
   "name": "python",
   "nbconvert_exporter": "python",
   "pygments_lexer": "ipython3",
   "version": "3.8.8"
  }
 },
 "nbformat": 4,
 "nbformat_minor": 2
}
